{
 "cells": [
  {
   "cell_type": "markdown",
   "metadata": {},
   "source": [
    "# Unit 5 - Financial Planning"
   ]
  },
  {
   "cell_type": "code",
   "execution_count": 1,
   "metadata": {},
   "outputs": [],
   "source": [
    "# Initial imports\n",
    "import os\n",
    "import requests\n",
    "import pandas as pd\n",
    "from dotenv import load_dotenv\n",
    "import alpaca_trade_api as tradeapi\n",
    "from MCForecastTools import MCSimulation\n",
    "\n",
    "%matplotlib inline"
   ]
  },
  {
   "cell_type": "code",
   "execution_count": 2,
   "metadata": {},
   "outputs": [
    {
     "data": {
      "text/plain": [
       "True"
      ]
     },
     "execution_count": 2,
     "metadata": {},
     "output_type": "execute_result"
    }
   ],
   "source": [
    "# Load .env enviroment variables\n",
    "load_dotenv()"
   ]
  },
  {
   "cell_type": "markdown",
   "metadata": {},
   "source": [
    "## Part 1 - Personal Finance Planner"
   ]
  },
  {
   "cell_type": "markdown",
   "metadata": {},
   "source": [
    "### Collect Crypto Prices Using the `requests` Library"
   ]
  },
  {
   "cell_type": "code",
   "execution_count": 3,
   "metadata": {},
   "outputs": [],
   "source": [
    "# Set current amount of crypto assets\n",
    "my_btc = 1.2\n",
    "my_eth = 5.3"
   ]
  },
  {
   "cell_type": "code",
   "execution_count": 4,
   "metadata": {},
   "outputs": [],
   "source": [
    "# Crypto API URLs\n",
    "btc_url = \"https://api.alternative.me/v2/ticker/Bitcoin/?convert=CAD\"\n",
    "eth_url = \"https://api.alternative.me/v2/ticker/Ethereum/?convert=CAD\""
   ]
  },
  {
   "cell_type": "code",
   "execution_count": 5,
   "metadata": {},
   "outputs": [
    {
     "name": "stdout",
     "output_type": "stream",
     "text": [
      "The current value of your 1.2 BTC is $24201.60\n",
      "The current value of your 5.3 ETH is $5881.62\n"
     ]
    }
   ],
   "source": [
    "# Fetch current BTC price\n",
    "btc_response = requests.get(btc_url)\n",
    "btc_content = btc_response.content\n",
    "current_btc_price = btc_response.json()\n",
    "\n",
    "# Fetch current ETH price\n",
    "eth_response = requests.get(eth_url)\n",
    "eth_content = eth_response.content\n",
    "current_eth_price = eth_response.json()\n",
    "\n",
    "# Compute current value of my crpto\n",
    "btc_price = current_btc_price[\"data\"][\"1\"][\"quotes\"][\"USD\"][\"price\"]\n",
    "eth_price = current_eth_price[\"data\"][\"1027\"][\"quotes\"][\"USD\"][\"price\"]\n",
    "my_btc_value = my_btc * btc_price\n",
    "my_eth_value = my_eth * eth_price\n",
    "\n",
    "# Print current crypto wallet balance\n",
    "print(f\"The current value of your {my_btc} BTC is ${my_btc_value:0.2f}\")\n",
    "print(f\"The current value of your {my_eth} ETH is ${my_eth_value:0.2f}\")"
   ]
  },
  {
   "cell_type": "markdown",
   "metadata": {},
   "source": [
    "### Collect Investments Data Using Alpaca: `SPY` (stocks) and `AGG` (bonds)"
   ]
  },
  {
   "cell_type": "code",
   "execution_count": 6,
   "metadata": {},
   "outputs": [],
   "source": [
    "# Set current amount of shares\n",
    "my_agg = 200\n",
    "my_spy = 50"
   ]
  },
  {
   "cell_type": "code",
   "execution_count": 7,
   "metadata": {},
   "outputs": [],
   "source": [
    "# Set Alpaca API key and secret\n",
    "load_dotenv()\n",
    "api_key = (\"PKYTM2NXV24OV9IZREAJ\")\n",
    "api_secret = \"nsS0lYYane3EB5Ug0xIpdZaNG7S5qMw016R34LGv\"\n",
    "\n",
    "# Create the Alpaca API object\n",
    "base_url = 'https://paper-api.alpaca.markets'\n",
    "api = tradeapi.REST(api_key, api_secret, base_url, api_version='v2')\n",
    "account = api.get_account()"
   ]
  },
  {
   "cell_type": "code",
   "execution_count": 8,
   "metadata": {},
   "outputs": [
    {
     "data": {
      "text/html": [
       "<div>\n",
       "<style scoped>\n",
       "    .dataframe tbody tr th:only-of-type {\n",
       "        vertical-align: middle;\n",
       "    }\n",
       "\n",
       "    .dataframe tbody tr th {\n",
       "        vertical-align: top;\n",
       "    }\n",
       "\n",
       "    .dataframe thead tr th {\n",
       "        text-align: left;\n",
       "    }\n",
       "\n",
       "    .dataframe thead tr:last-of-type th {\n",
       "        text-align: right;\n",
       "    }\n",
       "</style>\n",
       "<table border=\"1\" class=\"dataframe\">\n",
       "  <thead>\n",
       "    <tr>\n",
       "      <th></th>\n",
       "      <th>agg</th>\n",
       "      <th>spy</th>\n",
       "    </tr>\n",
       "    <tr>\n",
       "      <th></th>\n",
       "      <th>close</th>\n",
       "      <th>close</th>\n",
       "    </tr>\n",
       "    <tr>\n",
       "      <th>timestamp</th>\n",
       "      <th></th>\n",
       "      <th></th>\n",
       "    </tr>\n",
       "  </thead>\n",
       "  <tbody>\n",
       "    <tr>\n",
       "      <th>2022-07-08 04:00:00+00:00</th>\n",
       "      <td>101.23</td>\n",
       "      <td>388.67</td>\n",
       "    </tr>\n",
       "  </tbody>\n",
       "</table>\n",
       "</div>"
      ],
      "text/plain": [
       "                              agg     spy\n",
       "                            close   close\n",
       "timestamp                                \n",
       "2022-07-08 04:00:00+00:00  101.23  388.67"
      ]
     },
     "execution_count": 8,
     "metadata": {},
     "output_type": "execute_result"
    }
   ],
   "source": [
    "# Format current date as ISO format\n",
    "today =  pd.Timestamp(\"2022-07-08\", tz=\"America/New_York\").isoformat()\n",
    "\n",
    "# Set the tickers\n",
    "tickers = [\"AGG\", \"SPY\"]\n",
    "\n",
    "# Set timeframe to \"1Day\" for Alpaca API\n",
    "timeframe = \"1Day\"\n",
    "\n",
    "# Get current closing prices for SPY and AGG\n",
    "agg_spy = api.get_bars(\n",
    "    tickers, timeframe, start = today, end = today\n",
    ").df\n",
    "# Reorganize the DataFrame\n",
    "# Separate ticker data\n",
    "agg = agg_spy[agg_spy[\"symbol\"]==\"AGG\"].drop([\"open\", \"high\", \"low\", \"volume\", \"trade_count\", \"vwap\", \"symbol\"], axis = 1)\n",
    "\n",
    "spy = agg_spy[agg_spy[\"symbol\"]==\"SPY\"].drop([\"open\", \"high\", \"low\", \"volume\", \"trade_count\", \"vwap\", \"symbol\"], axis = 1)\n",
    "\n",
    "\n",
    "# Concatenate the ticker DataFrames\n",
    "combined_df = pd.concat([agg, spy], axis=\"columns\", join=\"inner\", keys = [\"agg\", \"spy\"])\n",
    "\n",
    "# Preview DataFrame\n",
    "combined_df"
   ]
  },
  {
   "cell_type": "code",
   "execution_count": 9,
   "metadata": {},
   "outputs": [
    {
     "name": "stdout",
     "output_type": "stream",
     "text": [
      "Current AGG closing price: $101.23\n",
      "Current SPY closing price: $388.67\n"
     ]
    }
   ],
   "source": [
    "# Pick AGG and SPY close prices\n",
    "agg_close = combined_df['agg']['close'][0]\n",
    "spy_close =combined_df['spy']['close'][0]\n",
    "\n",
    "# Print AGG and SPY close prices\n",
    "print(f\"Current AGG closing price: ${agg_close}\")\n",
    "print(f\"Current SPY closing price: ${spy_close}\")"
   ]
  },
  {
   "cell_type": "code",
   "execution_count": 10,
   "metadata": {},
   "outputs": [
    {
     "name": "stdout",
     "output_type": "stream",
     "text": [
      "The current value of  50 SPY shares is $19433.50\n",
      "The current value of  200 AGG shares is $20246.00\n"
     ]
    }
   ],
   "source": [
    "agg_current_value = agg_close * my_agg\n",
    "spy_current_value = spy_close * my_spy\n",
    "\n",
    "# Print current value of shares\n",
    "print(f\"The current value of  {my_spy} SPY shares is ${spy_current_value:0.2f}\")\n",
    "print(f\"The current value of  {my_agg} AGG shares is ${agg_current_value:0.2f}\")"
   ]
  },
  {
   "cell_type": "markdown",
   "metadata": {},
   "source": [
    "### Savings Health Analysis"
   ]
  },
  {
   "cell_type": "code",
   "execution_count": 11,
   "metadata": {},
   "outputs": [
    {
     "data": {
      "text/plain": [
       "69762.722"
      ]
     },
     "metadata": {},
     "output_type": "display_data"
    },
    {
     "data": {
      "text/html": [
       "<div>\n",
       "<style scoped>\n",
       "    .dataframe tbody tr th:only-of-type {\n",
       "        vertical-align: middle;\n",
       "    }\n",
       "\n",
       "    .dataframe tbody tr th {\n",
       "        vertical-align: top;\n",
       "    }\n",
       "\n",
       "    .dataframe thead th {\n",
       "        text-align: right;\n",
       "    }\n",
       "</style>\n",
       "<table border=\"1\" class=\"dataframe\">\n",
       "  <thead>\n",
       "    <tr style=\"text-align: right;\">\n",
       "      <th></th>\n",
       "      <th>total</th>\n",
       "    </tr>\n",
       "  </thead>\n",
       "  <tbody>\n",
       "    <tr>\n",
       "      <th>crypto</th>\n",
       "      <td>30083.222</td>\n",
       "    </tr>\n",
       "    <tr>\n",
       "      <th>stocks</th>\n",
       "      <td>39679.500</td>\n",
       "    </tr>\n",
       "  </tbody>\n",
       "</table>\n",
       "</div>"
      ],
      "text/plain": [
       "            total\n",
       "crypto  30083.222\n",
       "stocks  39679.500"
      ]
     },
     "metadata": {},
     "output_type": "display_data"
    }
   ],
   "source": [
    "# Set monthly household income\n",
    "monthly = 12000\n",
    "\n",
    "# Consolidate financial assets data\n",
    "financial_assets = [my_btc_value + my_eth_value,  spy_current_value + agg_current_value]\n",
    "financial_assets\n",
    "\n",
    "# Create savings DataFrame\n",
    "df_savings = pd.DataFrame(data = financial_assets, index = [\"crypto\", \"stocks\"], columns = [\"total\"])\n",
    "df_savings_total = (my_btc_value + my_eth_value) + (spy_current_value + agg_current_value)\n",
    "display(df_savings_total)\n",
    "\n",
    "# Display savings DataFrame\n",
    "display(df_savings)"
   ]
  },
  {
   "cell_type": "code",
   "execution_count": 12,
   "metadata": {},
   "outputs": [
    {
     "data": {
      "text/plain": [
       "<AxesSubplot:ylabel='total'>"
      ]
     },
     "execution_count": 12,
     "metadata": {},
     "output_type": "execute_result"
    },
    {
     "data": {
      "image/png": "[encoded data removed]",
      "text/plain": [
       "<Figure size 2160x1080 with 1 Axes>"
      ]
     },
     "metadata": {},
     "output_type": "display_data"
    }
   ],
   "source": [
    "# Plot savings pie chart\n",
    "df_savings.plot.pie(y=\"total\", figsize = (30, 15))"
   ]
  },
  {
   "cell_type": "code",
   "execution_count": 13,
   "metadata": {},
   "outputs": [
    {
     "name": "stdout",
     "output_type": "stream",
     "text": [
      "You need to save more for a rainy day\n"
     ]
    }
   ],
   "source": [
    "# Set ideal emergency fund\n",
    "#For this we always assume an emergency fund is equal to 6 months of gross income, which in this situation is $12,000 per month\n",
    "emergency_fund = monthly * 6\n",
    "\n",
    "# Calculate total amount of savings\n",
    "emergency_fund\n",
    "\n",
    "# Validate saving health\n",
    "\n",
    "if (df_savings_total > emergency_fund ):\n",
    "    print(\"Savings is healthy!\")\n",
    "elif (df_savings_total < emergency_fund):\n",
    "    print(\"You need to save more for a rainy day\")\n"
   ]
  },
  {
   "cell_type": "markdown",
   "metadata": {},
   "source": [
    "## Part 2 - Retirement Planning\n",
    "\n",
    "### Monte Carlo Simulation"
   ]
  },
  {
   "cell_type": "code",
   "execution_count": 14,
   "metadata": {},
   "outputs": [],
   "source": [
    "# Set start and end dates of five years back from today.\n",
    "# Sample results may vary from the solution based on the time frame chosen\n",
    "\n",
    "start_date = pd.Timestamp('2017-07-01', tz='America/New_York').isoformat()\n",
    "end_date = pd.Timestamp('2022-07-01', tz='America/New_York').isoformat()"
   ]
  },
  {
   "cell_type": "code",
   "execution_count": 15,
   "metadata": {},
   "outputs": [
    {
     "data": {
      "text/html": [
       "<div>\n",
       "<style scoped>\n",
       "    .dataframe tbody tr th:only-of-type {\n",
       "        vertical-align: middle;\n",
       "    }\n",
       "\n",
       "    .dataframe tbody tr th {\n",
       "        vertical-align: top;\n",
       "    }\n",
       "\n",
       "    .dataframe thead tr th {\n",
       "        text-align: left;\n",
       "    }\n",
       "\n",
       "    .dataframe thead tr:last-of-type th {\n",
       "        text-align: right;\n",
       "    }\n",
       "</style>\n",
       "<table border=\"1\" class=\"dataframe\">\n",
       "  <thead>\n",
       "    <tr>\n",
       "      <th></th>\n",
       "      <th colspan=\"7\" halign=\"left\">AGG</th>\n",
       "      <th colspan=\"7\" halign=\"left\">SPY</th>\n",
       "    </tr>\n",
       "    <tr>\n",
       "      <th></th>\n",
       "      <th>open</th>\n",
       "      <th>high</th>\n",
       "      <th>low</th>\n",
       "      <th>close</th>\n",
       "      <th>volume</th>\n",
       "      <th>trade_count</th>\n",
       "      <th>vwap</th>\n",
       "      <th>open</th>\n",
       "      <th>high</th>\n",
       "      <th>low</th>\n",
       "      <th>close</th>\n",
       "      <th>volume</th>\n",
       "      <th>trade_count</th>\n",
       "      <th>vwap</th>\n",
       "    </tr>\n",
       "    <tr>\n",
       "      <th>timestamp</th>\n",
       "      <th></th>\n",
       "      <th></th>\n",
       "      <th></th>\n",
       "      <th></th>\n",
       "      <th></th>\n",
       "      <th></th>\n",
       "      <th></th>\n",
       "      <th></th>\n",
       "      <th></th>\n",
       "      <th></th>\n",
       "      <th></th>\n",
       "      <th></th>\n",
       "      <th></th>\n",
       "      <th></th>\n",
       "    </tr>\n",
       "  </thead>\n",
       "  <tbody>\n",
       "    <tr>\n",
       "      <th>2017-07-03 04:00:00+00:00</th>\n",
       "      <td>109.30</td>\n",
       "      <td>109.30</td>\n",
       "      <td>109.01</td>\n",
       "      <td>109.09</td>\n",
       "      <td>1817281</td>\n",
       "      <td>7321</td>\n",
       "      <td>109.130388</td>\n",
       "      <td>242.90</td>\n",
       "      <td>243.38</td>\n",
       "      <td>242.2100</td>\n",
       "      <td>242.21</td>\n",
       "      <td>39153806</td>\n",
       "      <td>134045</td>\n",
       "      <td>242.802969</td>\n",
       "    </tr>\n",
       "    <tr>\n",
       "      <th>2017-07-05 04:00:00+00:00</th>\n",
       "      <td>109.08</td>\n",
       "      <td>109.18</td>\n",
       "      <td>109.00</td>\n",
       "      <td>109.15</td>\n",
       "      <td>4288609</td>\n",
       "      <td>12388</td>\n",
       "      <td>109.122387</td>\n",
       "      <td>242.61</td>\n",
       "      <td>243.01</td>\n",
       "      <td>241.7000</td>\n",
       "      <td>242.77</td>\n",
       "      <td>54427596</td>\n",
       "      <td>184987</td>\n",
       "      <td>242.525892</td>\n",
       "    </tr>\n",
       "    <tr>\n",
       "      <th>2017-07-06 04:00:00+00:00</th>\n",
       "      <td>108.95</td>\n",
       "      <td>109.00</td>\n",
       "      <td>108.82</td>\n",
       "      <td>108.94</td>\n",
       "      <td>2284910</td>\n",
       "      <td>10712</td>\n",
       "      <td>108.928442</td>\n",
       "      <td>241.86</td>\n",
       "      <td>242.03</td>\n",
       "      <td>240.3400</td>\n",
       "      <td>240.55</td>\n",
       "      <td>66115317</td>\n",
       "      <td>243341</td>\n",
       "      <td>241.125448</td>\n",
       "    </tr>\n",
       "    <tr>\n",
       "      <th>2017-07-07 04:00:00+00:00</th>\n",
       "      <td>108.89</td>\n",
       "      <td>108.95</td>\n",
       "      <td>108.83</td>\n",
       "      <td>108.90</td>\n",
       "      <td>2727445</td>\n",
       "      <td>9963</td>\n",
       "      <td>108.889505</td>\n",
       "      <td>241.18</td>\n",
       "      <td>242.28</td>\n",
       "      <td>240.5645</td>\n",
       "      <td>242.11</td>\n",
       "      <td>57972268</td>\n",
       "      <td>170407</td>\n",
       "      <td>241.801297</td>\n",
       "    </tr>\n",
       "    <tr>\n",
       "      <th>2017-07-10 04:00:00+00:00</th>\n",
       "      <td>108.97</td>\n",
       "      <td>109.02</td>\n",
       "      <td>108.89</td>\n",
       "      <td>108.95</td>\n",
       "      <td>2386444</td>\n",
       "      <td>9654</td>\n",
       "      <td>108.953151</td>\n",
       "      <td>241.98</td>\n",
       "      <td>242.80</td>\n",
       "      <td>241.7600</td>\n",
       "      <td>242.37</td>\n",
       "      <td>36663274</td>\n",
       "      <td>138842</td>\n",
       "      <td>242.377829</td>\n",
       "    </tr>\n",
       "  </tbody>\n",
       "</table>\n",
       "</div>"
      ],
      "text/plain": [
       "                              AGG                                   \\\n",
       "                             open    high     low   close   volume   \n",
       "timestamp                                                            \n",
       "2017-07-03 04:00:00+00:00  109.30  109.30  109.01  109.09  1817281   \n",
       "2017-07-05 04:00:00+00:00  109.08  109.18  109.00  109.15  4288609   \n",
       "2017-07-06 04:00:00+00:00  108.95  109.00  108.82  108.94  2284910   \n",
       "2017-07-07 04:00:00+00:00  108.89  108.95  108.83  108.90  2727445   \n",
       "2017-07-10 04:00:00+00:00  108.97  109.02  108.89  108.95  2386444   \n",
       "\n",
       "                                                      SPY                    \\\n",
       "                          trade_count        vwap    open    high       low   \n",
       "timestamp                                                                     \n",
       "2017-07-03 04:00:00+00:00        7321  109.130388  242.90  243.38  242.2100   \n",
       "2017-07-05 04:00:00+00:00       12388  109.122387  242.61  243.01  241.7000   \n",
       "2017-07-06 04:00:00+00:00       10712  108.928442  241.86  242.03  240.3400   \n",
       "2017-07-07 04:00:00+00:00        9963  108.889505  241.18  242.28  240.5645   \n",
       "2017-07-10 04:00:00+00:00        9654  108.953151  241.98  242.80  241.7600   \n",
       "\n",
       "                                                                     \n",
       "                            close    volume trade_count        vwap  \n",
       "timestamp                                                            \n",
       "2017-07-03 04:00:00+00:00  242.21  39153806      134045  242.802969  \n",
       "2017-07-05 04:00:00+00:00  242.77  54427596      184987  242.525892  \n",
       "2017-07-06 04:00:00+00:00  240.55  66115317      243341  241.125448  \n",
       "2017-07-07 04:00:00+00:00  242.11  57972268      170407  241.801297  \n",
       "2017-07-10 04:00:00+00:00  242.37  36663274      138842  242.377829  "
      ]
     },
     "execution_count": 15,
     "metadata": {},
     "output_type": "execute_result"
    }
   ],
   "source": [
    "# Get 5 years' worth of historical data for SPY and AGG\n",
    "agg_spy_five_df = api.get_bars(\n",
    "    tickers, timeframe, start = start_date, end = end_date\n",
    ").df\n",
    "\n",
    "\n",
    "AGG = agg_spy_five_df[agg_spy_five_df['symbol']==\"AGG\"].drop((['symbol']), axis = 1)\n",
    "\n",
    "SPY = agg_spy_five_df[agg_spy_five_df['symbol']==\"SPY\"].drop((['symbol']), axis = 1)\n",
    "AGG\n",
    "SPY\n",
    "\n",
    "# Concatenate the ticker DataFrames\n",
    "combined_five_df = pd.concat([AGG, SPY], axis=1, keys = ['AGG', 'SPY'])\n",
    "\n",
    "# Preview DataFrame\n",
    "combined_five_df.head()\n",
    "\n",
    "\n",
    "                           "
   ]
  },
  {
   "cell_type": "code",
   "execution_count": 16,
   "metadata": {},
   "outputs": [],
   "source": [
    "# Configuring a Monte Carlo simulation to forecast 30 years cumulative returns\n",
    "num_sims = 30 "
   ]
  },
  {
   "cell_type": "code",
   "execution_count": 17,
   "metadata": {},
   "outputs": [
    {
     "data": {
      "text/html": [
       "<div>\n",
       "<style scoped>\n",
       "    .dataframe tbody tr th:only-of-type {\n",
       "        vertical-align: middle;\n",
       "    }\n",
       "\n",
       "    .dataframe tbody tr th {\n",
       "        vertical-align: top;\n",
       "    }\n",
       "\n",
       "    .dataframe thead tr th {\n",
       "        text-align: left;\n",
       "    }\n",
       "\n",
       "    .dataframe thead tr:last-of-type th {\n",
       "        text-align: right;\n",
       "    }\n",
       "</style>\n",
       "<table border=\"1\" class=\"dataframe\">\n",
       "  <thead>\n",
       "    <tr>\n",
       "      <th></th>\n",
       "      <th colspan=\"8\" halign=\"left\">AGG</th>\n",
       "      <th colspan=\"8\" halign=\"left\">SPY</th>\n",
       "    </tr>\n",
       "    <tr>\n",
       "      <th></th>\n",
       "      <th>open</th>\n",
       "      <th>high</th>\n",
       "      <th>low</th>\n",
       "      <th>close</th>\n",
       "      <th>volume</th>\n",
       "      <th>trade_count</th>\n",
       "      <th>vwap</th>\n",
       "      <th>daily_return</th>\n",
       "      <th>open</th>\n",
       "      <th>high</th>\n",
       "      <th>low</th>\n",
       "      <th>close</th>\n",
       "      <th>volume</th>\n",
       "      <th>trade_count</th>\n",
       "      <th>vwap</th>\n",
       "      <th>daily_return</th>\n",
       "    </tr>\n",
       "    <tr>\n",
       "      <th>timestamp</th>\n",
       "      <th></th>\n",
       "      <th></th>\n",
       "      <th></th>\n",
       "      <th></th>\n",
       "      <th></th>\n",
       "      <th></th>\n",
       "      <th></th>\n",
       "      <th></th>\n",
       "      <th></th>\n",
       "      <th></th>\n",
       "      <th></th>\n",
       "      <th></th>\n",
       "      <th></th>\n",
       "      <th></th>\n",
       "      <th></th>\n",
       "      <th></th>\n",
       "    </tr>\n",
       "  </thead>\n",
       "  <tbody>\n",
       "    <tr>\n",
       "      <th>2017-07-03 04:00:00+00:00</th>\n",
       "      <td>109.30</td>\n",
       "      <td>109.30</td>\n",
       "      <td>109.01</td>\n",
       "      <td>109.09</td>\n",
       "      <td>1817281</td>\n",
       "      <td>7321</td>\n",
       "      <td>109.130388</td>\n",
       "      <td>NaN</td>\n",
       "      <td>242.90</td>\n",
       "      <td>243.38</td>\n",
       "      <td>242.2100</td>\n",
       "      <td>242.21</td>\n",
       "      <td>39153806</td>\n",
       "      <td>134045</td>\n",
       "      <td>242.802969</td>\n",
       "      <td>NaN</td>\n",
       "    </tr>\n",
       "    <tr>\n",
       "      <th>2017-07-05 04:00:00+00:00</th>\n",
       "      <td>109.08</td>\n",
       "      <td>109.18</td>\n",
       "      <td>109.00</td>\n",
       "      <td>109.15</td>\n",
       "      <td>4288609</td>\n",
       "      <td>12388</td>\n",
       "      <td>109.122387</td>\n",
       "      <td>0.000550</td>\n",
       "      <td>242.61</td>\n",
       "      <td>243.01</td>\n",
       "      <td>241.7000</td>\n",
       "      <td>242.77</td>\n",
       "      <td>54427596</td>\n",
       "      <td>184987</td>\n",
       "      <td>242.525892</td>\n",
       "      <td>0.002312</td>\n",
       "    </tr>\n",
       "    <tr>\n",
       "      <th>2017-07-06 04:00:00+00:00</th>\n",
       "      <td>108.95</td>\n",
       "      <td>109.00</td>\n",
       "      <td>108.82</td>\n",
       "      <td>108.94</td>\n",
       "      <td>2284910</td>\n",
       "      <td>10712</td>\n",
       "      <td>108.928442</td>\n",
       "      <td>-0.001924</td>\n",
       "      <td>241.86</td>\n",
       "      <td>242.03</td>\n",
       "      <td>240.3400</td>\n",
       "      <td>240.55</td>\n",
       "      <td>66115317</td>\n",
       "      <td>243341</td>\n",
       "      <td>241.125448</td>\n",
       "      <td>-0.009144</td>\n",
       "    </tr>\n",
       "    <tr>\n",
       "      <th>2017-07-07 04:00:00+00:00</th>\n",
       "      <td>108.89</td>\n",
       "      <td>108.95</td>\n",
       "      <td>108.83</td>\n",
       "      <td>108.90</td>\n",
       "      <td>2727445</td>\n",
       "      <td>9963</td>\n",
       "      <td>108.889505</td>\n",
       "      <td>-0.000367</td>\n",
       "      <td>241.18</td>\n",
       "      <td>242.28</td>\n",
       "      <td>240.5645</td>\n",
       "      <td>242.11</td>\n",
       "      <td>57972268</td>\n",
       "      <td>170407</td>\n",
       "      <td>241.801297</td>\n",
       "      <td>0.006485</td>\n",
       "    </tr>\n",
       "    <tr>\n",
       "      <th>2017-07-10 04:00:00+00:00</th>\n",
       "      <td>108.97</td>\n",
       "      <td>109.02</td>\n",
       "      <td>108.89</td>\n",
       "      <td>108.95</td>\n",
       "      <td>2386444</td>\n",
       "      <td>9654</td>\n",
       "      <td>108.953151</td>\n",
       "      <td>0.000459</td>\n",
       "      <td>241.98</td>\n",
       "      <td>242.80</td>\n",
       "      <td>241.7600</td>\n",
       "      <td>242.37</td>\n",
       "      <td>36663274</td>\n",
       "      <td>138842</td>\n",
       "      <td>242.377829</td>\n",
       "      <td>0.001074</td>\n",
       "    </tr>\n",
       "  </tbody>\n",
       "</table>\n",
       "</div>"
      ],
      "text/plain": [
       "                              AGG                                   \\\n",
       "                             open    high     low   close   volume   \n",
       "timestamp                                                            \n",
       "2017-07-03 04:00:00+00:00  109.30  109.30  109.01  109.09  1817281   \n",
       "2017-07-05 04:00:00+00:00  109.08  109.18  109.00  109.15  4288609   \n",
       "2017-07-06 04:00:00+00:00  108.95  109.00  108.82  108.94  2284910   \n",
       "2017-07-07 04:00:00+00:00  108.89  108.95  108.83  108.90  2727445   \n",
       "2017-07-10 04:00:00+00:00  108.97  109.02  108.89  108.95  2386444   \n",
       "\n",
       "                                                                   SPY  \\\n",
       "                          trade_count        vwap daily_return    open   \n",
       "timestamp                                                                \n",
       "2017-07-03 04:00:00+00:00        7321  109.130388          NaN  242.90   \n",
       "2017-07-05 04:00:00+00:00       12388  109.122387     0.000550  242.61   \n",
       "2017-07-06 04:00:00+00:00       10712  108.928442    -0.001924  241.86   \n",
       "2017-07-07 04:00:00+00:00        9963  108.889505    -0.000367  241.18   \n",
       "2017-07-10 04:00:00+00:00        9654  108.953151     0.000459  241.98   \n",
       "\n",
       "                                                                           \\\n",
       "                             high       low   close    volume trade_count   \n",
       "timestamp                                                                   \n",
       "2017-07-03 04:00:00+00:00  243.38  242.2100  242.21  39153806      134045   \n",
       "2017-07-05 04:00:00+00:00  243.01  241.7000  242.77  54427596      184987   \n",
       "2017-07-06 04:00:00+00:00  242.03  240.3400  240.55  66115317      243341   \n",
       "2017-07-07 04:00:00+00:00  242.28  240.5645  242.11  57972268      170407   \n",
       "2017-07-10 04:00:00+00:00  242.80  241.7600  242.37  36663274      138842   \n",
       "\n",
       "                                                    \n",
       "                                 vwap daily_return  \n",
       "timestamp                                           \n",
       "2017-07-03 04:00:00+00:00  242.802969          NaN  \n",
       "2017-07-05 04:00:00+00:00  242.525892     0.002312  \n",
       "2017-07-06 04:00:00+00:00  241.125448    -0.009144  \n",
       "2017-07-07 04:00:00+00:00  241.801297     0.006485  \n",
       "2017-07-10 04:00:00+00:00  242.377829     0.001074  "
      ]
     },
     "execution_count": 17,
     "metadata": {},
     "output_type": "execute_result"
    }
   ],
   "source": [
    "# Printing the simulation input data\n",
    "MC_portfolio = MCSimulation(portfolio_data = combined_five_df,\n",
    "                           weights = [.60, .40],\n",
    "                           num_simulation = num_sims,\n",
    "                           num_trading_days = 252 * 3\n",
    "                          )\n",
    "MC_portfolio.portfolio_data.head() "
   ]
  },
  {
   "cell_type": "code",
   "execution_count": 18,
   "metadata": {},
   "outputs": [
    {
     "name": "stdout",
     "output_type": "stream",
     "text": [
      "Running Monte Carlo simulation number 0.\n",
      "Running Monte Carlo simulation number 10.\n",
      "Running Monte Carlo simulation number 20.\n"
     ]
    },
    {
     "data": {
      "text/html": [
       "<div>\n",
       "<style scoped>\n",
       "    .dataframe tbody tr th:only-of-type {\n",
       "        vertical-align: middle;\n",
       "    }\n",
       "\n",
       "    .dataframe tbody tr th {\n",
       "        vertical-align: top;\n",
       "    }\n",
       "\n",
       "    .dataframe thead th {\n",
       "        text-align: right;\n",
       "    }\n",
       "</style>\n",
       "<table border=\"1\" class=\"dataframe\">\n",
       "  <thead>\n",
       "    <tr style=\"text-align: right;\">\n",
       "      <th></th>\n",
       "      <th>0</th>\n",
       "      <th>1</th>\n",
       "      <th>2</th>\n",
       "      <th>3</th>\n",
       "      <th>4</th>\n",
       "      <th>5</th>\n",
       "      <th>6</th>\n",
       "      <th>7</th>\n",
       "      <th>8</th>\n",
       "      <th>9</th>\n",
       "      <th>...</th>\n",
       "      <th>20</th>\n",
       "      <th>21</th>\n",
       "      <th>22</th>\n",
       "      <th>23</th>\n",
       "      <th>24</th>\n",
       "      <th>25</th>\n",
       "      <th>26</th>\n",
       "      <th>27</th>\n",
       "      <th>28</th>\n",
       "      <th>29</th>\n",
       "    </tr>\n",
       "  </thead>\n",
       "  <tbody>\n",
       "    <tr>\n",
       "      <th>0</th>\n",
       "      <td>1.000000</td>\n",
       "      <td>1.000000</td>\n",
       "      <td>1.000000</td>\n",
       "      <td>1.000000</td>\n",
       "      <td>1.000000</td>\n",
       "      <td>1.000000</td>\n",
       "      <td>1.000000</td>\n",
       "      <td>1.000000</td>\n",
       "      <td>1.000000</td>\n",
       "      <td>1.000000</td>\n",
       "      <td>...</td>\n",
       "      <td>1.000000</td>\n",
       "      <td>1.000000</td>\n",
       "      <td>1.000000</td>\n",
       "      <td>1.000000</td>\n",
       "      <td>1.000000</td>\n",
       "      <td>1.000000</td>\n",
       "      <td>1.000000</td>\n",
       "      <td>1.000000</td>\n",
       "      <td>1.000000</td>\n",
       "      <td>1.000000</td>\n",
       "    </tr>\n",
       "    <tr>\n",
       "      <th>1</th>\n",
       "      <td>0.992822</td>\n",
       "      <td>1.000584</td>\n",
       "      <td>1.006094</td>\n",
       "      <td>1.001679</td>\n",
       "      <td>1.002856</td>\n",
       "      <td>1.003232</td>\n",
       "      <td>0.986615</td>\n",
       "      <td>0.997687</td>\n",
       "      <td>0.999646</td>\n",
       "      <td>1.007054</td>\n",
       "      <td>...</td>\n",
       "      <td>1.013928</td>\n",
       "      <td>0.991319</td>\n",
       "      <td>0.998341</td>\n",
       "      <td>1.003806</td>\n",
       "      <td>0.989315</td>\n",
       "      <td>1.008720</td>\n",
       "      <td>0.997649</td>\n",
       "      <td>0.998653</td>\n",
       "      <td>0.999761</td>\n",
       "      <td>0.995386</td>\n",
       "    </tr>\n",
       "    <tr>\n",
       "      <th>2</th>\n",
       "      <td>0.997088</td>\n",
       "      <td>1.006200</td>\n",
       "      <td>1.009851</td>\n",
       "      <td>1.001674</td>\n",
       "      <td>1.007894</td>\n",
       "      <td>1.005096</td>\n",
       "      <td>0.982959</td>\n",
       "      <td>0.998770</td>\n",
       "      <td>0.995481</td>\n",
       "      <td>1.020394</td>\n",
       "      <td>...</td>\n",
       "      <td>1.010193</td>\n",
       "      <td>0.985921</td>\n",
       "      <td>0.998019</td>\n",
       "      <td>1.005377</td>\n",
       "      <td>0.994186</td>\n",
       "      <td>1.005682</td>\n",
       "      <td>1.002208</td>\n",
       "      <td>0.996376</td>\n",
       "      <td>0.999431</td>\n",
       "      <td>0.995147</td>\n",
       "    </tr>\n",
       "    <tr>\n",
       "      <th>3</th>\n",
       "      <td>1.000242</td>\n",
       "      <td>1.009926</td>\n",
       "      <td>1.021241</td>\n",
       "      <td>1.011755</td>\n",
       "      <td>1.007518</td>\n",
       "      <td>1.010372</td>\n",
       "      <td>0.980051</td>\n",
       "      <td>1.001657</td>\n",
       "      <td>0.993106</td>\n",
       "      <td>1.017389</td>\n",
       "      <td>...</td>\n",
       "      <td>1.024359</td>\n",
       "      <td>0.987872</td>\n",
       "      <td>1.004434</td>\n",
       "      <td>0.987419</td>\n",
       "      <td>0.981328</td>\n",
       "      <td>1.007814</td>\n",
       "      <td>0.992466</td>\n",
       "      <td>0.996153</td>\n",
       "      <td>0.994482</td>\n",
       "      <td>0.999629</td>\n",
       "    </tr>\n",
       "    <tr>\n",
       "      <th>4</th>\n",
       "      <td>0.997460</td>\n",
       "      <td>1.011069</td>\n",
       "      <td>1.022436</td>\n",
       "      <td>1.017367</td>\n",
       "      <td>1.005262</td>\n",
       "      <td>1.006805</td>\n",
       "      <td>0.976015</td>\n",
       "      <td>0.992868</td>\n",
       "      <td>0.989339</td>\n",
       "      <td>1.018984</td>\n",
       "      <td>...</td>\n",
       "      <td>1.027138</td>\n",
       "      <td>0.998502</td>\n",
       "      <td>0.994947</td>\n",
       "      <td>0.976242</td>\n",
       "      <td>0.975772</td>\n",
       "      <td>1.004707</td>\n",
       "      <td>0.991841</td>\n",
       "      <td>0.994365</td>\n",
       "      <td>0.990201</td>\n",
       "      <td>1.011033</td>\n",
       "    </tr>\n",
       "    <tr>\n",
       "      <th>...</th>\n",
       "      <td>...</td>\n",
       "      <td>...</td>\n",
       "      <td>...</td>\n",
       "      <td>...</td>\n",
       "      <td>...</td>\n",
       "      <td>...</td>\n",
       "      <td>...</td>\n",
       "      <td>...</td>\n",
       "      <td>...</td>\n",
       "      <td>...</td>\n",
       "      <td>...</td>\n",
       "      <td>...</td>\n",
       "      <td>...</td>\n",
       "      <td>...</td>\n",
       "      <td>...</td>\n",
       "      <td>...</td>\n",
       "      <td>...</td>\n",
       "      <td>...</td>\n",
       "      <td>...</td>\n",
       "      <td>...</td>\n",
       "      <td>...</td>\n",
       "    </tr>\n",
       "    <tr>\n",
       "      <th>752</th>\n",
       "      <td>1.237169</td>\n",
       "      <td>1.206652</td>\n",
       "      <td>1.030039</td>\n",
       "      <td>1.247839</td>\n",
       "      <td>1.200098</td>\n",
       "      <td>1.042391</td>\n",
       "      <td>1.282124</td>\n",
       "      <td>0.921320</td>\n",
       "      <td>1.084541</td>\n",
       "      <td>1.042804</td>\n",
       "      <td>...</td>\n",
       "      <td>1.103062</td>\n",
       "      <td>1.155218</td>\n",
       "      <td>0.949961</td>\n",
       "      <td>1.234167</td>\n",
       "      <td>0.923514</td>\n",
       "      <td>1.339642</td>\n",
       "      <td>0.973947</td>\n",
       "      <td>1.316605</td>\n",
       "      <td>1.211965</td>\n",
       "      <td>1.554148</td>\n",
       "    </tr>\n",
       "    <tr>\n",
       "      <th>753</th>\n",
       "      <td>1.247500</td>\n",
       "      <td>1.191182</td>\n",
       "      <td>1.026766</td>\n",
       "      <td>1.252802</td>\n",
       "      <td>1.212111</td>\n",
       "      <td>1.044218</td>\n",
       "      <td>1.294520</td>\n",
       "      <td>0.916040</td>\n",
       "      <td>1.085480</td>\n",
       "      <td>1.034359</td>\n",
       "      <td>...</td>\n",
       "      <td>1.108578</td>\n",
       "      <td>1.149223</td>\n",
       "      <td>0.938896</td>\n",
       "      <td>1.235688</td>\n",
       "      <td>0.921171</td>\n",
       "      <td>1.338143</td>\n",
       "      <td>0.983495</td>\n",
       "      <td>1.311331</td>\n",
       "      <td>1.213117</td>\n",
       "      <td>1.537690</td>\n",
       "    </tr>\n",
       "    <tr>\n",
       "      <th>754</th>\n",
       "      <td>1.243454</td>\n",
       "      <td>1.193090</td>\n",
       "      <td>1.022967</td>\n",
       "      <td>1.252505</td>\n",
       "      <td>1.218442</td>\n",
       "      <td>1.053077</td>\n",
       "      <td>1.282227</td>\n",
       "      <td>0.913372</td>\n",
       "      <td>1.090284</td>\n",
       "      <td>1.036503</td>\n",
       "      <td>...</td>\n",
       "      <td>1.109292</td>\n",
       "      <td>1.155530</td>\n",
       "      <td>0.937761</td>\n",
       "      <td>1.232838</td>\n",
       "      <td>0.932866</td>\n",
       "      <td>1.330705</td>\n",
       "      <td>0.987711</td>\n",
       "      <td>1.308834</td>\n",
       "      <td>1.218511</td>\n",
       "      <td>1.534641</td>\n",
       "    </tr>\n",
       "    <tr>\n",
       "      <th>755</th>\n",
       "      <td>1.243076</td>\n",
       "      <td>1.184872</td>\n",
       "      <td>1.023657</td>\n",
       "      <td>1.253031</td>\n",
       "      <td>1.222964</td>\n",
       "      <td>1.060453</td>\n",
       "      <td>1.294723</td>\n",
       "      <td>0.913931</td>\n",
       "      <td>1.080609</td>\n",
       "      <td>1.040924</td>\n",
       "      <td>...</td>\n",
       "      <td>1.112193</td>\n",
       "      <td>1.160690</td>\n",
       "      <td>0.942302</td>\n",
       "      <td>1.236413</td>\n",
       "      <td>0.925180</td>\n",
       "      <td>1.335905</td>\n",
       "      <td>0.989432</td>\n",
       "      <td>1.305976</td>\n",
       "      <td>1.211456</td>\n",
       "      <td>1.524368</td>\n",
       "    </tr>\n",
       "    <tr>\n",
       "      <th>756</th>\n",
       "      <td>1.230304</td>\n",
       "      <td>1.172508</td>\n",
       "      <td>1.022841</td>\n",
       "      <td>1.251405</td>\n",
       "      <td>1.225065</td>\n",
       "      <td>1.059350</td>\n",
       "      <td>1.293175</td>\n",
       "      <td>0.911007</td>\n",
       "      <td>1.076543</td>\n",
       "      <td>1.042020</td>\n",
       "      <td>...</td>\n",
       "      <td>1.117002</td>\n",
       "      <td>1.163846</td>\n",
       "      <td>0.936978</td>\n",
       "      <td>1.236256</td>\n",
       "      <td>0.925205</td>\n",
       "      <td>1.335666</td>\n",
       "      <td>0.991717</td>\n",
       "      <td>1.316284</td>\n",
       "      <td>1.209647</td>\n",
       "      <td>1.533014</td>\n",
       "    </tr>\n",
       "  </tbody>\n",
       "</table>\n",
       "<p>757 rows × 30 columns</p>\n",
       "</div>"
      ],
      "text/plain": [
       "           0         1         2         3         4         5         6   \\\n",
       "0    1.000000  1.000000  1.000000  1.000000  1.000000  1.000000  1.000000   \n",
       "1    0.992822  1.000584  1.006094  1.001679  1.002856  1.003232  0.986615   \n",
       "2    0.997088  1.006200  1.009851  1.001674  1.007894  1.005096  0.982959   \n",
       "3    1.000242  1.009926  1.021241  1.011755  1.007518  1.010372  0.980051   \n",
       "4    0.997460  1.011069  1.022436  1.017367  1.005262  1.006805  0.976015   \n",
       "..        ...       ...       ...       ...       ...       ...       ...   \n",
       "752  1.237169  1.206652  1.030039  1.247839  1.200098  1.042391  1.282124   \n",
       "753  1.247500  1.191182  1.026766  1.252802  1.212111  1.044218  1.294520   \n",
       "754  1.243454  1.193090  1.022967  1.252505  1.218442  1.053077  1.282227   \n",
       "755  1.243076  1.184872  1.023657  1.253031  1.222964  1.060453  1.294723   \n",
       "756  1.230304  1.172508  1.022841  1.251405  1.225065  1.059350  1.293175   \n",
       "\n",
       "           7         8         9   ...        20        21        22  \\\n",
       "0    1.000000  1.000000  1.000000  ...  1.000000  1.000000  1.000000   \n",
       "1    0.997687  0.999646  1.007054  ...  1.013928  0.991319  0.998341   \n",
       "2    0.998770  0.995481  1.020394  ...  1.010193  0.985921  0.998019   \n",
       "3    1.001657  0.993106  1.017389  ...  1.024359  0.987872  1.004434   \n",
       "4    0.992868  0.989339  1.018984  ...  1.027138  0.998502  0.994947   \n",
       "..        ...       ...       ...  ...       ...       ...       ...   \n",
       "752  0.921320  1.084541  1.042804  ...  1.103062  1.155218  0.949961   \n",
       "753  0.916040  1.085480  1.034359  ...  1.108578  1.149223  0.938896   \n",
       "754  0.913372  1.090284  1.036503  ...  1.109292  1.155530  0.937761   \n",
       "755  0.913931  1.080609  1.040924  ...  1.112193  1.160690  0.942302   \n",
       "756  0.911007  1.076543  1.042020  ...  1.117002  1.163846  0.936978   \n",
       "\n",
       "           23        24        25        26        27        28        29  \n",
       "0    1.000000  1.000000  1.000000  1.000000  1.000000  1.000000  1.000000  \n",
       "1    1.003806  0.989315  1.008720  0.997649  0.998653  0.999761  0.995386  \n",
       "2    1.005377  0.994186  1.005682  1.002208  0.996376  0.999431  0.995147  \n",
       "3    0.987419  0.981328  1.007814  0.992466  0.996153  0.994482  0.999629  \n",
       "4    0.976242  0.975772  1.004707  0.991841  0.994365  0.990201  1.011033  \n",
       "..        ...       ...       ...       ...       ...       ...       ...  \n",
       "752  1.234167  0.923514  1.339642  0.973947  1.316605  1.211965  1.554148  \n",
       "753  1.235688  0.921171  1.338143  0.983495  1.311331  1.213117  1.537690  \n",
       "754  1.232838  0.932866  1.330705  0.987711  1.308834  1.218511  1.534641  \n",
       "755  1.236413  0.925180  1.335905  0.989432  1.305976  1.211456  1.524368  \n",
       "756  1.236256  0.925205  1.335666  0.991717  1.316284  1.209647  1.533014  \n",
       "\n",
       "[757 rows x 30 columns]"
      ]
     },
     "execution_count": 18,
     "metadata": {},
     "output_type": "execute_result"
    }
   ],
   "source": [
    "# Running a Monte Carlo simulation to forecast 30 years cumulative returns\n",
    "MC_portfolio.calc_cumulative_return()"
   ]
  },
  {
   "cell_type": "code",
   "execution_count": 19,
   "metadata": {},
   "outputs": [
    {
     "data": {
      "image/png": "[encoded data removed]",
      "text/plain": [
       "<Figure size 432x288 with 1 Axes>"
      ]
     },
     "metadata": {
      "needs_background": "light"
     },
     "output_type": "display_data"
    }
   ],
   "source": [
    "# Plot simulation outcomes\n",
    "MC_portfolio_line_plot_30year =  MC_portfolio.plot_simulation()"
   ]
  },
  {
   "cell_type": "code",
   "execution_count": 20,
   "metadata": {},
   "outputs": [
    {
     "data": {
      "image/png": "[encoded data removed]",
      "text/plain": [
       "<Figure size 432x288 with 1 Axes>"
      ]
     },
     "metadata": {
      "needs_background": "light"
     },
     "output_type": "display_data"
    }
   ],
   "source": [
    "# Plot probability distribution and confidence intervals\n",
    "MC_portfolio_dist_plot_30year = MC_portfolio.plot_distribution()"
   ]
  },
  {
   "cell_type": "markdown",
   "metadata": {},
   "source": [
    "### Retirement Analysis"
   ]
  },
  {
   "cell_type": "code",
   "execution_count": 21,
   "metadata": {},
   "outputs": [
    {
     "name": "stdout",
     "output_type": "stream",
     "text": [
      "count           30.000000\n",
      "mean             1.136075\n",
      "std              0.162441\n",
      "min              0.750921\n",
      "25%              1.034921\n",
      "50%              1.146322\n",
      "75%              1.247618\n",
      "max              1.533014\n",
      "95% CI Lower     0.866983\n",
      "95% CI Upper     1.389937\n",
      "Name: 756, dtype: float64\n"
     ]
    }
   ],
   "source": [
    "# Fetch summary statistics from the Monte Carlo simulation results\n",
    "MC_portfolio_summary_stats_30year = MC_portfolio.summarize_cumulative_return()\n",
    "\n",
    "# Print summary statistics\n",
    "print(MC_portfolio_summary_stats_30year)"
   ]
  },
  {
   "cell_type": "markdown",
   "metadata": {},
   "source": [
    "### Calculate the expected portfolio return at the `95%` lower and upper confidence intervals based on a `$20,000` initial investment."
   ]
  },
  {
   "cell_type": "code",
   "execution_count": 22,
   "metadata": {},
   "outputs": [
    {
     "name": "stdout",
     "output_type": "stream",
     "text": [
      "There is a 95% chance that an initial investment of $20000 in the portfolio over the next 30 years will end within in the range of $17339.660672535072 and $27798.739524441487\n"
     ]
    }
   ],
   "source": [
    "# Set initial investment\n",
    "initial_investment_new = 20000\n",
    "\n",
    "# Use the lower and upper `95%` confidence intervals to calculate the range of the possible outcomes of our $20,000\n",
    "ci_lower = MC_portfolio_summary_stats_30year[8] * initial_investment_new\n",
    "ci_upper = MC_portfolio_summary_stats_30year[9] * initial_investment_new\n",
    "\n",
    "# Print results\n",
    "print(f\"There is a 95% chance that an initial investment of ${initial_investment_new} in the portfolio\"\n",
    "      f\" over the next 30 years will end within in the range of\"\n",
    "      f\" ${ci_lower} and ${ci_upper}\")"
   ]
  },
  {
   "cell_type": "markdown",
   "metadata": {},
   "source": [
    "### Calculate the expected portfolio return at the `95%` lower and upper confidence intervals based on a `50%` increase in the initial investment."
   ]
  },
  {
   "cell_type": "code",
   "execution_count": 23,
   "metadata": {},
   "outputs": [
    {
     "name": "stdout",
     "output_type": "stream",
     "text": [
      "There is a 95% chance that an initial investment of $30000.0 in the portfolio over the next 30 years will end within in the range of $26009.491008802608 and $41698.10928666223\n"
     ]
    }
   ],
   "source": [
    "# Set initial investment\n",
    "initial_investment = 20000 * 1.5\n",
    "\n",
    "# Use the lower and upper `95%` confidence intervals to calculate the range of the possible outcomes of our $30,000\n",
    "ci_lower = MC_portfolio_summary_stats_30year[8] * initial_investment\n",
    "ci_upper = MC_portfolio_summary_stats_30year[9] * initial_investment\n",
    "\n",
    "# Print results\n",
    "print(f\"There is a 95% chance that an initial investment of ${initial_investment} in the portfolio\"\n",
    "      f\" over the next 30 years will end within in the range of\"\n",
    "      f\" ${ci_lower} and ${ci_upper}\")"
   ]
  },
  {
   "cell_type": "markdown",
   "metadata": {},
   "source": [
    "## Optional Challenge - Early Retirement\n",
    "\n",
    "\n",
    "### Five Years Retirement Option"
   ]
  },
  {
   "cell_type": "code",
   "execution_count": 24,
   "metadata": {},
   "outputs": [],
   "source": [
    "# Configuring a Monte Carlo simulation to forecast 5 years cumulative returns\n",
    "# YOUR CODE HERE!"
   ]
  },
  {
   "cell_type": "code",
   "execution_count": 25,
   "metadata": {},
   "outputs": [],
   "source": [
    "# Running a Monte Carlo simulation to forecast 5 years cumulative returns\n",
    "# YOUR CODE HERE!"
   ]
  },
  {
   "cell_type": "code",
   "execution_count": 26,
   "metadata": {},
   "outputs": [],
   "source": [
    "# Plot simulation outcomes\n",
    "# YOUR CODE HERE!"
   ]
  },
  {
   "cell_type": "code",
   "execution_count": 27,
   "metadata": {},
   "outputs": [],
   "source": [
    "# Plot probability distribution and confidence intervals\n",
    "# YOUR CODE HERE!"
   ]
  },
  {
   "cell_type": "code",
   "execution_count": 28,
   "metadata": {},
   "outputs": [],
   "source": [
    "# Fetch summary statistics from the Monte Carlo simulation results\n",
    "# YOUR CODE HERE!\n",
    "\n",
    "# Print summary statistics\n",
    "# YOUR CODE HERE!"
   ]
  },
  {
   "cell_type": "code",
   "execution_count": 30,
   "metadata": {},
   "outputs": [],
   "source": [
    "# Set initial investment\n",
    "# YOUR CODE HERE!\n",
    "\n",
    "# Use the lower and upper `95%` confidence intervals to calculate the range of the possible outcomes of our $60,000\n",
    "# YOUR CODE HERE!\n",
    "\n",
    "# Print results\n",
    "#print"
   ]
  },
  {
   "cell_type": "markdown",
   "metadata": {},
   "source": [
    "### Ten Years Retirement Option"
   ]
  },
  {
   "cell_type": "code",
   "execution_count": null,
   "metadata": {},
   "outputs": [],
   "source": [
    "# Configuring a Monte Carlo simulation to forecast 10 years cumulative returns\n",
    "# YOUR CODE HERE!"
   ]
  },
  {
   "cell_type": "code",
   "execution_count": null,
   "metadata": {},
   "outputs": [],
   "source": [
    "# Running a Monte Carlo simulation to forecast 10 years cumulative returns\n",
    "# YOUR CODE HERE!"
   ]
  },
  {
   "cell_type": "code",
   "execution_count": null,
   "metadata": {},
   "outputs": [],
   "source": [
    "# Plot simulation outcomes\n",
    "# YOUR CODE HERE!"
   ]
  },
  {
   "cell_type": "code",
   "execution_count": null,
   "metadata": {},
   "outputs": [],
   "source": [
    "# Plot probability distribution and confidence intervals\n",
    "# YOUR CODE HERE!"
   ]
  },
  {
   "cell_type": "code",
   "execution_count": null,
   "metadata": {},
   "outputs": [],
   "source": [
    "# Fetch summary statistics from the Monte Carlo simulation results\n",
    "# YOUR CODE HERE!\n",
    "\n",
    "# Print summary statistics\n",
    "# YOUR CODE HERE!"
   ]
  },
  {
   "cell_type": "code",
   "execution_count": null,
   "metadata": {},
   "outputs": [],
   "source": [
    "# Set initial investment\n",
    "# YOUR CODE HERE!\n",
    "\n",
    "# Use the lower and upper `95%` confidence intervals to calculate the range of the possible outcomes of our $60,000\n",
    "# YOUR CODE HERE!\n",
    "\n",
    "# Print results\n",
    "print(f\"There is a 95% chance that an initial investment of ${initial_investment} in the portfolio\"\n",
    "      f\" over the next 10 years will end within in the range of\"\n",
    "      f\" ${ci_lower_ten} and ${ci_upper_ten}\")"
   ]
  },
  {
   "cell_type": "code",
   "execution_count": null,
   "metadata": {},
   "outputs": [],
   "source": []
  }
 ],
 "metadata": {
  "kernelspec": {
   "display_name": "Python 3 (ipykernel)",
   "language": "python",
   "name": "python3"
  },
  "language_info": {
   "codemirror_mode": {
    "name": "ipython",
    "version": 3
   },
   "file_extension": ".py",
   "mimetype": "text/x-python",
   "name": "python",
   "nbconvert_exporter": "python",
   "pygments_lexer": "ipython3",
   "version": "3.7.13"
  },
  "nteract": {
   "version": "0.28.0"
  }
 },
 "nbformat": 4,
 "nbformat_minor": 4
}
